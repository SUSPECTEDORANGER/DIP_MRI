{
 "cells": [
  {
   "cell_type": "code",
   "execution_count": 1,
   "metadata": {},
   "outputs": [],
   "source": [
    "import numpy as np"
   ]
  },
  {
   "cell_type": "code",
   "execution_count": 2,
   "metadata": {},
   "outputs": [],
   "source": [
    "file_path = 'testnpy/age_test.npy'\n",
    "age = np.zeros(100)\n",
    "age[0:10] = 21+5/7\n",
    "age[10:20] = 23+3/7\n",
    "age[20:30] = 24+4/7\n",
    "age[30:40] = 26+2/7\n",
    "age[40:50] = 27+2/7\n",
    "age[50:60] = 29+1/7\n",
    "age[60:70] = 32\n",
    "age[70:80] = 33\n",
    "age[80:90] = 34+4/7\n",
    "age[90:100] = 39+2/7\n",
    "\n",
    "np.save(file_path, age)"
   ]
  }
 ],
 "metadata": {
  "kernelspec": {
   "display_name": "Python 3.9.13 ('pytorch1')",
   "language": "python",
   "name": "python3"
  },
  "language_info": {
   "codemirror_mode": {
    "name": "ipython",
    "version": 3
   },
   "file_extension": ".py",
   "mimetype": "text/x-python",
   "name": "python",
   "nbconvert_exporter": "python",
   "pygments_lexer": "ipython3",
   "version": "3.9.13"
  },
  "orig_nbformat": 4,
  "vscode": {
   "interpreter": {
    "hash": "03a592f1097941e623f7d8db1a4f76de75f5b9ab4d22cafd563fda8dc36419e2"
   }
  }
 },
 "nbformat": 4,
 "nbformat_minor": 2
}
